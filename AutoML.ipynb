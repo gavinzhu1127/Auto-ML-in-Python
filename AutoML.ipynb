{
 "cells": [
  {
   "cell_type": "code",
   "execution_count": 1,
   "metadata": {},
   "outputs": [],
   "source": [
    "# suppress warning\n",
    "import warnings\n",
    "warnings.filterwarnings('ignore')\n",
    "%matplotlib inline  \n",
    "\n",
    "# define location for the input file\n",
    "loc = 'http://web.stanford.edu/class/archive/cs/cs109/cs109.1166/stuff/titanic.csv'"
   ]
  },
  {
   "cell_type": "markdown",
   "metadata": {},
   "source": [
    "# H2O Auto ML"
   ]
  },
  {
   "cell_type": "markdown",
   "metadata": {},
   "source": [
    "Here is the link for [H2o AutoML document](http://docs.h2o.ai/h2o/latest-stable/h2o-docs/automl.html)"
   ]
  },
  {
   "cell_type": "code",
   "execution_count": 2,
   "metadata": {},
   "outputs": [
    {
     "name": "stdout",
     "output_type": "stream",
     "text": [
      "Checking whether there is an H2O instance running at http://localhost:54321 ..... not found.\n",
      "Attempting to start a local H2O server...\n",
      "; Java HotSpot(TM) 64-Bit Server VM (build 25.241-b07, mixed mode)\n",
      "  Starting server from C:\\Users\\Gavin\\Anaconda3\\lib\\site-packages\\h2o\\backend\\bin\\h2o.jar\n",
      "  Ice root: C:\\Users\\Gavin\\AppData\\Local\\Temp\\tmp33a9n3r9\n",
      "  JVM stdout: C:\\Users\\Gavin\\AppData\\Local\\Temp\\tmp33a9n3r9\\h2o_Gavin_started_from_python.out\n",
      "  JVM stderr: C:\\Users\\Gavin\\AppData\\Local\\Temp\\tmp33a9n3r9\\h2o_Gavin_started_from_python.err\n",
      "  Server is running at http://127.0.0.1:54321\n",
      "Connecting to H2O server at http://127.0.0.1:54321 ... successful.\n",
      "Warning: Your H2O cluster version is too old (4 months and 10 days)! Please download and install the latest version from http://h2o.ai/download/\n"
     ]
    },
    {
     "data": {
      "text/html": [
       "<div style=\"overflow:auto\"><table style=\"width:50%\"><tr><td>H2O cluster uptime:</td>\n",
       "<td>01 secs</td></tr>\n",
       "<tr><td>H2O cluster timezone:</td>\n",
       "<td>America/New_York</td></tr>\n",
       "<tr><td>H2O data parsing timezone:</td>\n",
       "<td>UTC</td></tr>\n",
       "<tr><td>H2O cluster version:</td>\n",
       "<td>3.26.0.10</td></tr>\n",
       "<tr><td>H2O cluster version age:</td>\n",
       "<td>4 months and 10 days !!!</td></tr>\n",
       "<tr><td>H2O cluster name:</td>\n",
       "<td>H2O_from_python_Gavin_sdmjyr</td></tr>\n",
       "<tr><td>H2O cluster total nodes:</td>\n",
       "<td>1</td></tr>\n",
       "<tr><td>H2O cluster free memory:</td>\n",
       "<td>3.495 Gb</td></tr>\n",
       "<tr><td>H2O cluster total cores:</td>\n",
       "<td>8</td></tr>\n",
       "<tr><td>H2O cluster allowed cores:</td>\n",
       "<td>8</td></tr>\n",
       "<tr><td>H2O cluster status:</td>\n",
       "<td>accepting new members, healthy</td></tr>\n",
       "<tr><td>H2O connection url:</td>\n",
       "<td>http://127.0.0.1:54321</td></tr>\n",
       "<tr><td>H2O connection proxy:</td>\n",
       "<td>{'http': None, 'https': None}</td></tr>\n",
       "<tr><td>H2O internal security:</td>\n",
       "<td>False</td></tr>\n",
       "<tr><td>H2O API Extensions:</td>\n",
       "<td>Amazon S3, Algos, AutoML, Core V3, TargetEncoder, Core V4</td></tr>\n",
       "<tr><td>Python version:</td>\n",
       "<td>3.7.3 final</td></tr></table></div>"
      ],
      "text/plain": [
       "--------------------------  ---------------------------------------------------------\n",
       "H2O cluster uptime:         01 secs\n",
       "H2O cluster timezone:       America/New_York\n",
       "H2O data parsing timezone:  UTC\n",
       "H2O cluster version:        3.26.0.10\n",
       "H2O cluster version age:    4 months and 10 days !!!\n",
       "H2O cluster name:           H2O_from_python_Gavin_sdmjyr\n",
       "H2O cluster total nodes:    1\n",
       "H2O cluster free memory:    3.495 Gb\n",
       "H2O cluster total cores:    8\n",
       "H2O cluster allowed cores:  8\n",
       "H2O cluster status:         accepting new members, healthy\n",
       "H2O connection url:         http://127.0.0.1:54321\n",
       "H2O connection proxy:       {'http': None, 'https': None}\n",
       "H2O internal security:      False\n",
       "H2O API Extensions:         Amazon S3, Algos, AutoML, Core V3, TargetEncoder, Core V4\n",
       "Python version:             3.7.3 final\n",
       "--------------------------  ---------------------------------------------------------"
      ]
     },
     "metadata": {},
     "output_type": "display_data"
    }
   ],
   "source": [
    "import h2o\n",
    "from h2o.automl import H2OAutoML\n",
    "\n",
    "# Start an H2O virtual cluster that uses 6 gigs of RAM and 6 cores\n",
    "# shut down the cluster use h2o.cluster().shutdown()\n",
    "h2o.init()"
   ]
  },
  {
   "cell_type": "code",
   "execution_count": 3,
   "metadata": {},
   "outputs": [
    {
     "name": "stdout",
     "output_type": "stream",
     "text": [
      "Parse progress: |█████████████████████████████████████████████████████████| 100%\n"
     ]
    }
   ],
   "source": [
    "h2o_df = h2o.import_file(loc)"
   ]
  },
  {
   "cell_type": "code",
   "execution_count": 4,
   "metadata": {},
   "outputs": [
    {
     "data": {
      "text/html": [
       "<table>\n",
       "<thead>\n",
       "<tr><th style=\"text-align: right;\">  Survived</th><th style=\"text-align: right;\">  Pclass</th><th>Name                                              </th><th>Sex   </th><th style=\"text-align: right;\">  Age</th><th style=\"text-align: right;\">  Siblings/Spouses Aboard</th><th style=\"text-align: right;\">  Parents/Children Aboard</th><th style=\"text-align: right;\">   Fare</th></tr>\n",
       "</thead>\n",
       "<tbody>\n",
       "<tr><td style=\"text-align: right;\">         0</td><td style=\"text-align: right;\">       3</td><td>Mr. Owen Harris Braund                            </td><td>male  </td><td style=\"text-align: right;\">   22</td><td style=\"text-align: right;\">                        1</td><td style=\"text-align: right;\">                        0</td><td style=\"text-align: right;\"> 7.25  </td></tr>\n",
       "<tr><td style=\"text-align: right;\">         1</td><td style=\"text-align: right;\">       1</td><td>Mrs. John Bradley (Florence Briggs Thayer) Cumings</td><td>female</td><td style=\"text-align: right;\">   38</td><td style=\"text-align: right;\">                        1</td><td style=\"text-align: right;\">                        0</td><td style=\"text-align: right;\">71.2833</td></tr>\n",
       "<tr><td style=\"text-align: right;\">         1</td><td style=\"text-align: right;\">       3</td><td>Miss. Laina Heikkinen                             </td><td>female</td><td style=\"text-align: right;\">   26</td><td style=\"text-align: right;\">                        0</td><td style=\"text-align: right;\">                        0</td><td style=\"text-align: right;\"> 7.925 </td></tr>\n",
       "<tr><td style=\"text-align: right;\">         1</td><td style=\"text-align: right;\">       1</td><td>Mrs. Jacques Heath (Lily May Peel) Futrelle       </td><td>female</td><td style=\"text-align: right;\">   35</td><td style=\"text-align: right;\">                        1</td><td style=\"text-align: right;\">                        0</td><td style=\"text-align: right;\">53.1   </td></tr>\n",
       "<tr><td style=\"text-align: right;\">         0</td><td style=\"text-align: right;\">       3</td><td>Mr. William Henry Allen                           </td><td>male  </td><td style=\"text-align: right;\">   35</td><td style=\"text-align: right;\">                        0</td><td style=\"text-align: right;\">                        0</td><td style=\"text-align: right;\"> 8.05  </td></tr>\n",
       "<tr><td style=\"text-align: right;\">         0</td><td style=\"text-align: right;\">       3</td><td>Mr. James Moran                                   </td><td>male  </td><td style=\"text-align: right;\">   27</td><td style=\"text-align: right;\">                        0</td><td style=\"text-align: right;\">                        0</td><td style=\"text-align: right;\"> 8.4583</td></tr>\n",
       "<tr><td style=\"text-align: right;\">         0</td><td style=\"text-align: right;\">       1</td><td>Mr. Timothy J McCarthy                            </td><td>male  </td><td style=\"text-align: right;\">   54</td><td style=\"text-align: right;\">                        0</td><td style=\"text-align: right;\">                        0</td><td style=\"text-align: right;\">51.8625</td></tr>\n",
       "<tr><td style=\"text-align: right;\">         0</td><td style=\"text-align: right;\">       3</td><td>Master. Gosta Leonard Palsson                     </td><td>male  </td><td style=\"text-align: right;\">    2</td><td style=\"text-align: right;\">                        3</td><td style=\"text-align: right;\">                        1</td><td style=\"text-align: right;\">21.075 </td></tr>\n",
       "<tr><td style=\"text-align: right;\">         1</td><td style=\"text-align: right;\">       3</td><td>Mrs. Oscar W (Elisabeth Vilhelmina Berg) Johnson  </td><td>female</td><td style=\"text-align: right;\">   27</td><td style=\"text-align: right;\">                        0</td><td style=\"text-align: right;\">                        2</td><td style=\"text-align: right;\">11.1333</td></tr>\n",
       "<tr><td style=\"text-align: right;\">         1</td><td style=\"text-align: right;\">       2</td><td>Mrs. Nicholas (Adele Achem) Nasser                </td><td>female</td><td style=\"text-align: right;\">   14</td><td style=\"text-align: right;\">                        1</td><td style=\"text-align: right;\">                        0</td><td style=\"text-align: right;\">30.0708</td></tr>\n",
       "</tbody>\n",
       "</table>"
      ]
     },
     "metadata": {},
     "output_type": "display_data"
    },
    {
     "data": {
      "text/plain": []
     },
     "execution_count": 4,
     "metadata": {},
     "output_type": "execute_result"
    }
   ],
   "source": [
    "h2o_df.head()"
   ]
  },
  {
   "cell_type": "code",
   "execution_count": 5,
   "metadata": {},
   "outputs": [],
   "source": [
    "# define predictors and target feature\n",
    "X = h2o_df.drop(['Survived', 'Name'], axis = 1).columns\n",
    "y = 'Survived'"
   ]
  },
  {
   "cell_type": "code",
   "execution_count": 6,
   "metadata": {},
   "outputs": [],
   "source": [
    "# specify features as an enum type\n",
    "for i in ['Survived', 'Sex']:\n",
    "    h2o_df[i] = h2o_df[i].asfactor()"
   ]
  },
  {
   "cell_type": "code",
   "execution_count": 7,
   "metadata": {},
   "outputs": [],
   "source": [
    "# split data into train and test\n",
    "frs = h2o_df.split_frame([0.66], seed=12345)\n",
    "\n",
    "htrain = frs[0]\n",
    "htrain.frame_id = \"Train\"\n",
    "htest= frs[1]\n",
    "htest.frame_id = \"Test\""
   ]
  },
  {
   "cell_type": "code",
   "execution_count": 8,
   "metadata": {},
   "outputs": [],
   "source": [
    "# Starting h2o autoML model\n",
    "aml = H2OAutoML(max_models = 30,  \n",
    "                max_runtime_secs = 1800, \n",
    "                stopping_metric = 'AUC',\n",
    "                nfolds = 5,\n",
    "                stopping_tolerance = 0.001,\n",
    "                stopping_rounds = 3,\n",
    "                exclude_algos = [\"GLM\", \"DeepLearning\"], seed = 100)"
   ]
  },
  {
   "cell_type": "code",
   "execution_count": 9,
   "metadata": {},
   "outputs": [
    {
     "name": "stdout",
     "output_type": "stream",
     "text": [
      "AutoML progress: |████████████████████████████████████████████████████████| 100%\n"
     ]
    }
   ],
   "source": [
    "aml.train(x=X, y =y, training_frame=htrain)"
   ]
  },
  {
   "cell_type": "code",
   "execution_count": 10,
   "metadata": {},
   "outputs": [
    {
     "data": {
      "text/html": [
       "<table>\n",
       "<thead>\n",
       "<tr><th>model_id                                           </th><th style=\"text-align: right;\">     auc</th><th style=\"text-align: right;\">  logloss</th><th style=\"text-align: right;\">  mean_per_class_error</th><th style=\"text-align: right;\">    rmse</th><th style=\"text-align: right;\">     mse</th></tr>\n",
       "</thead>\n",
       "<tbody>\n",
       "<tr><td>GBM_grid_1_AutoML_20200318_104111_model_9          </td><td style=\"text-align: right;\">0.872112</td><td style=\"text-align: right;\"> 0.414944</td><td style=\"text-align: right;\">              0.186382</td><td style=\"text-align: right;\">0.356846</td><td style=\"text-align: right;\">0.127339</td></tr>\n",
       "<tr><td>StackedEnsemble_BestOfFamily_AutoML_20200318_104111</td><td style=\"text-align: right;\">0.870762</td><td style=\"text-align: right;\"> 0.41219 </td><td style=\"text-align: right;\">              0.184982</td><td style=\"text-align: right;\">0.357637</td><td style=\"text-align: right;\">0.127904</td></tr>\n",
       "<tr><td>GBM_grid_1_AutoML_20200318_104111_model_3          </td><td style=\"text-align: right;\">0.87061 </td><td style=\"text-align: right;\"> 0.420861</td><td style=\"text-align: right;\">              0.184766</td><td style=\"text-align: right;\">0.356608</td><td style=\"text-align: right;\">0.12717 </td></tr>\n",
       "<tr><td>GBM_grid_1_AutoML_20200318_104111_model_6          </td><td style=\"text-align: right;\">0.870033</td><td style=\"text-align: right;\"> 0.424431</td><td style=\"text-align: right;\">              0.186598</td><td style=\"text-align: right;\">0.360396</td><td style=\"text-align: right;\">0.129886</td></tr>\n",
       "<tr><td>GBM_3_AutoML_20200318_104111                       </td><td style=\"text-align: right;\">0.867783</td><td style=\"text-align: right;\"> 0.419992</td><td style=\"text-align: right;\">              0.171192</td><td style=\"text-align: right;\">0.358285</td><td style=\"text-align: right;\">0.128368</td></tr>\n",
       "<tr><td>StackedEnsemble_AllModels_AutoML_20200318_104111   </td><td style=\"text-align: right;\">0.867733</td><td style=\"text-align: right;\"> 0.411796</td><td style=\"text-align: right;\">              0.185413</td><td style=\"text-align: right;\">0.356345</td><td style=\"text-align: right;\">0.126982</td></tr>\n",
       "<tr><td>GBM_2_AutoML_20200318_104111                       </td><td style=\"text-align: right;\">0.862992</td><td style=\"text-align: right;\"> 0.425653</td><td style=\"text-align: right;\">              0.184766</td><td style=\"text-align: right;\">0.358252</td><td style=\"text-align: right;\">0.128344</td></tr>\n",
       "<tr><td>GBM_4_AutoML_20200318_104111                       </td><td style=\"text-align: right;\">0.861249</td><td style=\"text-align: right;\"> 0.42855 </td><td style=\"text-align: right;\">              0.186059</td><td style=\"text-align: right;\">0.362149</td><td style=\"text-align: right;\">0.131152</td></tr>\n",
       "<tr><td>XRT_1_AutoML_20200318_104111                       </td><td style=\"text-align: right;\">0.859589</td><td style=\"text-align: right;\"> 0.683446</td><td style=\"text-align: right;\">              0.191554</td><td style=\"text-align: right;\">0.371395</td><td style=\"text-align: right;\">0.137934</td></tr>\n",
       "<tr><td>GBM_1_AutoML_20200318_104111                       </td><td style=\"text-align: right;\">0.858043</td><td style=\"text-align: right;\"> 0.444881</td><td style=\"text-align: right;\">              0.18746 </td><td style=\"text-align: right;\">0.367704</td><td style=\"text-align: right;\">0.135206</td></tr>\n",
       "</tbody>\n",
       "</table>"
      ]
     },
     "metadata": {},
     "output_type": "display_data"
    },
    {
     "data": {
      "text/plain": []
     },
     "execution_count": 10,
     "metadata": {},
     "output_type": "execute_result"
    }
   ],
   "source": [
    "# show model performance based on cross validation\n",
    "aml.leaderboard"
   ]
  },
  {
   "cell_type": "code",
   "execution_count": 11,
   "metadata": {},
   "outputs": [],
   "source": [
    "# leader model is stored here\n",
    "aml_model =aml.leader"
   ]
  },
  {
   "cell_type": "code",
   "execution_count": 12,
   "metadata": {},
   "outputs": [
    {
     "data": {
      "text/plain": [
       "0.8681642342183928"
      ]
     },
     "execution_count": 12,
     "metadata": {},
     "output_type": "execute_result"
    }
   ],
   "source": [
    "# model performance on test data set\n",
    "aml_perf = aml_model.model_performance(test_data=htest)\n",
    "aml_perf.auc()"
   ]
  },
  {
   "cell_type": "code",
   "execution_count": 13,
   "metadata": {},
   "outputs": [
    {
     "data": {
      "image/png": "[encoded data removed]",
      "text/plain": [
       "<Figure size 432x288 with 1 Axes>"
      ]
     },
     "metadata": {
      "needs_background": "light"
     },
     "output_type": "display_data"
    }
   ],
   "source": [
    "aml_perf.plot()"
   ]
  },
  {
   "cell_type": "code",
   "execution_count": 14,
   "metadata": {},
   "outputs": [
    {
     "name": "stdout",
     "output_type": "stream",
     "text": [
      "gbm prediction progress: |████████████████████████████████████████████████| 100%\n"
     ]
    },
    {
     "data": {
      "text/html": [
       "<table>\n",
       "<thead>\n",
       "<tr><th style=\"text-align: right;\">  predict</th><th style=\"text-align: right;\">       p0</th><th style=\"text-align: right;\">       p1</th></tr>\n",
       "</thead>\n",
       "<tbody>\n",
       "<tr><td style=\"text-align: right;\">        1</td><td style=\"text-align: right;\">0.0135063</td><td style=\"text-align: right;\">0.986494 </td></tr>\n",
       "<tr><td style=\"text-align: right;\">        0</td><td style=\"text-align: right;\">0.697023 </td><td style=\"text-align: right;\">0.302977 </td></tr>\n",
       "<tr><td style=\"text-align: right;\">        1</td><td style=\"text-align: right;\">0.0969491</td><td style=\"text-align: right;\">0.903051 </td></tr>\n",
       "<tr><td style=\"text-align: right;\">        1</td><td style=\"text-align: right;\">0.169135 </td><td style=\"text-align: right;\">0.830865 </td></tr>\n",
       "<tr><td style=\"text-align: right;\">        1</td><td style=\"text-align: right;\">0.0628877</td><td style=\"text-align: right;\">0.937112 </td></tr>\n",
       "<tr><td style=\"text-align: right;\">        1</td><td style=\"text-align: right;\">0.200884 </td><td style=\"text-align: right;\">0.799116 </td></tr>\n",
       "<tr><td style=\"text-align: right;\">        0</td><td style=\"text-align: right;\">0.833525 </td><td style=\"text-align: right;\">0.166475 </td></tr>\n",
       "<tr><td style=\"text-align: right;\">        1</td><td style=\"text-align: right;\">0.20578  </td><td style=\"text-align: right;\">0.79422  </td></tr>\n",
       "<tr><td style=\"text-align: right;\">        0</td><td style=\"text-align: right;\">0.94476  </td><td style=\"text-align: right;\">0.05524  </td></tr>\n",
       "<tr><td style=\"text-align: right;\">        0</td><td style=\"text-align: right;\">0.965521 </td><td style=\"text-align: right;\">0.0344785</td></tr>\n",
       "</tbody>\n",
       "</table>"
      ]
     },
     "metadata": {},
     "output_type": "display_data"
    },
    {
     "data": {
      "text/plain": []
     },
     "execution_count": 14,
     "metadata": {},
     "output_type": "execute_result"
    }
   ],
   "source": [
    "# prediction on test data set\n",
    "aml_model.predict(htest)"
   ]
  },
  {
   "cell_type": "markdown",
   "metadata": {},
   "source": [
    "# TPOT AutoML"
   ]
  },
  {
   "cell_type": "markdown",
   "metadata": {},
   "source": [
    "Here is the link for [tpot document](https://epistasislab.github.io/tpot/)"
   ]
  },
  {
   "cell_type": "code",
   "execution_count": 15,
   "metadata": {},
   "outputs": [],
   "source": [
    "import pandas as pd\n",
    "import tpot\n",
    "from tpot import TPOTClassifier\n",
    "from sklearn.model_selection import train_test_split"
   ]
  },
  {
   "cell_type": "code",
   "execution_count": 16,
   "metadata": {},
   "outputs": [
    {
     "data": {
      "text/html": [
       "<div>\n",
       "<style scoped>\n",
       "    .dataframe tbody tr th:only-of-type {\n",
       "        vertical-align: middle;\n",
       "    }\n",
       "\n",
       "    .dataframe tbody tr th {\n",
       "        vertical-align: top;\n",
       "    }\n",
       "\n",
       "    .dataframe thead th {\n",
       "        text-align: right;\n",
       "    }\n",
       "</style>\n",
       "<table border=\"1\" class=\"dataframe\">\n",
       "  <thead>\n",
       "    <tr style=\"text-align: right;\">\n",
       "      <th></th>\n",
       "      <th>Survived</th>\n",
       "      <th>Pclass</th>\n",
       "      <th>Name</th>\n",
       "      <th>Sex</th>\n",
       "      <th>Age</th>\n",
       "      <th>Siblings/Spouses Aboard</th>\n",
       "      <th>Parents/Children Aboard</th>\n",
       "      <th>Fare</th>\n",
       "    </tr>\n",
       "  </thead>\n",
       "  <tbody>\n",
       "    <tr>\n",
       "      <th>0</th>\n",
       "      <td>0</td>\n",
       "      <td>3</td>\n",
       "      <td>Mr. Owen Harris Braund</td>\n",
       "      <td>male</td>\n",
       "      <td>22.0</td>\n",
       "      <td>1</td>\n",
       "      <td>0</td>\n",
       "      <td>7.2500</td>\n",
       "    </tr>\n",
       "    <tr>\n",
       "      <th>1</th>\n",
       "      <td>1</td>\n",
       "      <td>1</td>\n",
       "      <td>Mrs. John Bradley (Florence Briggs Thayer) Cum...</td>\n",
       "      <td>female</td>\n",
       "      <td>38.0</td>\n",
       "      <td>1</td>\n",
       "      <td>0</td>\n",
       "      <td>71.2833</td>\n",
       "    </tr>\n",
       "    <tr>\n",
       "      <th>2</th>\n",
       "      <td>1</td>\n",
       "      <td>3</td>\n",
       "      <td>Miss. Laina Heikkinen</td>\n",
       "      <td>female</td>\n",
       "      <td>26.0</td>\n",
       "      <td>0</td>\n",
       "      <td>0</td>\n",
       "      <td>7.9250</td>\n",
       "    </tr>\n",
       "    <tr>\n",
       "      <th>3</th>\n",
       "      <td>1</td>\n",
       "      <td>1</td>\n",
       "      <td>Mrs. Jacques Heath (Lily May Peel) Futrelle</td>\n",
       "      <td>female</td>\n",
       "      <td>35.0</td>\n",
       "      <td>1</td>\n",
       "      <td>0</td>\n",
       "      <td>53.1000</td>\n",
       "    </tr>\n",
       "    <tr>\n",
       "      <th>4</th>\n",
       "      <td>0</td>\n",
       "      <td>3</td>\n",
       "      <td>Mr. William Henry Allen</td>\n",
       "      <td>male</td>\n",
       "      <td>35.0</td>\n",
       "      <td>0</td>\n",
       "      <td>0</td>\n",
       "      <td>8.0500</td>\n",
       "    </tr>\n",
       "  </tbody>\n",
       "</table>\n",
       "</div>"
      ],
      "text/plain": [
       "   Survived  Pclass                                               Name  \\\n",
       "0         0       3                             Mr. Owen Harris Braund   \n",
       "1         1       1  Mrs. John Bradley (Florence Briggs Thayer) Cum...   \n",
       "2         1       3                              Miss. Laina Heikkinen   \n",
       "3         1       1        Mrs. Jacques Heath (Lily May Peel) Futrelle   \n",
       "4         0       3                            Mr. William Henry Allen   \n",
       "\n",
       "      Sex   Age  Siblings/Spouses Aboard  Parents/Children Aboard     Fare  \n",
       "0    male  22.0                        1                        0   7.2500  \n",
       "1  female  38.0                        1                        0  71.2833  \n",
       "2  female  26.0                        0                        0   7.9250  \n",
       "3  female  35.0                        1                        0  53.1000  \n",
       "4    male  35.0                        0                        0   8.0500  "
      ]
     },
     "execution_count": 16,
     "metadata": {},
     "output_type": "execute_result"
    }
   ],
   "source": [
    "# loc = r'C:\\Users\\Gavin\\Documents\\projects\\playground\\Data-Science-using-Python\\titanic.csv'\n",
    "input_df = pd.read_csv(loc)\n",
    "input_df.head()"
   ]
  },
  {
   "cell_type": "markdown",
   "metadata": {},
   "source": [
    "tpot requires to take care of the feature encoding before feed into its AutoML process"
   ]
  },
  {
   "cell_type": "code",
   "execution_count": 17,
   "metadata": {},
   "outputs": [],
   "source": [
    "titanic_df = input_df.select_dtypes(exclude=['object'])\n",
    "\n",
    "# define predictors and target feature\n",
    "X = titanic_df.drop(['Survived'], axis=1)\n",
    "y = titanic_df['Survived']"
   ]
  },
  {
   "cell_type": "code",
   "execution_count": 18,
   "metadata": {},
   "outputs": [],
   "source": [
    "# split data into train and test\n",
    "X_train, X_test, y_train, y_test = train_test_split(X, y, test_size=0.33, random_state=42, shuffle=True)"
   ]
  },
  {
   "cell_type": "code",
   "execution_count": 19,
   "metadata": {},
   "outputs": [
    {
     "data": {
      "text/plain": [
       "TPOTClassifier(config_dict={'sklearn.cluster.FeatureAgglomeration': {'affinity': ['euclidean',\n",
       "                                                                                  'l1',\n",
       "                                                                                  'l2',\n",
       "                                                                                  'manhattan',\n",
       "                                                                                  'cosine'],\n",
       "                                                                     'linkage': ['ward',\n",
       "                                                                                 'complete',\n",
       "                                                                                 'average']},\n",
       "                            'sklearn.decomposition.PCA': {'iterated_power': range(1, 11),\n",
       "                                                          'svd_solver': ['randomized']},\n",
       "                            'sklearn.feature_selection.SelectFwe': {'alpha': array([0.   , 0.001, 0.002, 0.003, 0.004, 0.005, 0.006, 0.007...\n",
       "                            'tpot.builtins.ZeroCount': {}},\n",
       "               crossover_rate=0.1, cv=2, disable_update_check=False,\n",
       "               early_stop=5, generations=2, max_eval_time_mins=5,\n",
       "               max_time_mins=None, memory=None, mutation_rate=0.9, n_jobs=-1,\n",
       "               offspring_size=None, periodic_checkpoint_folder=None,\n",
       "               population_size=10, random_state=0, scoring='roc_auc',\n",
       "               subsample=1.0, template=None, use_dask=False, verbosity=0,\n",
       "               warm_start=False)"
      ]
     },
     "execution_count": 19,
     "metadata": {},
     "output_type": "execute_result"
    }
   ],
   "source": [
    "# scale up: Increase the TPOT parameters like population_size, generations\n",
    "# if regression problem, then use TPOTRegressor\n",
    "tp = TPOTClassifier(\n",
    "    generations=2, # number of iterations\n",
    "    population_size=10, # number of individuals to retain in the genetic programming population every generation\n",
    "    scoring= 'roc_auc',\n",
    "    cv=2,\n",
    "    n_jobs=-1,\n",
    "    random_state=0,\n",
    "    verbosity=0,\n",
    "    config_dict= tpot.config.classifier_config_dict_light, # or use 'TPOT light'\n",
    "    early_stop=5 # number of generations to check whether there is no improvement in optimization process\n",
    ")\n",
    "\n",
    "tp.fit(X_train, y_train)"
   ]
  },
  {
   "cell_type": "code",
   "execution_count": 20,
   "metadata": {},
   "outputs": [
    {
     "data": {
      "text/plain": [
       "0.730544937763403"
      ]
     },
     "execution_count": 20,
     "metadata": {},
     "output_type": "execute_result"
    }
   ],
   "source": [
    "# model performance on test data set\n",
    "tp.score(X_test, y_test)"
   ]
  },
  {
   "cell_type": "code",
   "execution_count": 21,
   "metadata": {},
   "outputs": [
    {
     "data": {
      "text/plain": [
       "array([[0.96551724, 0.03448276],\n",
       "       [0.96551724, 0.03448276],\n",
       "       [0.82089552, 0.17910448],\n",
       "       [0.96551724, 0.03448276],\n",
       "       [0.5375    , 0.4625    ],\n",
       "       [0.15      , 0.85      ],\n",
       "       [0.7254902 , 0.2745098 ],\n",
       "       [0.7254902 , 0.2745098 ],\n",
       "       [0.7254902 , 0.2745098 ],\n",
       "       [0.41666667, 0.58333333]])"
      ]
     },
     "execution_count": 21,
     "metadata": {},
     "output_type": "execute_result"
    }
   ],
   "source": [
    "# prediction on test data set\n",
    "tp.predict_proba(X_test)[:10]"
   ]
  },
  {
   "cell_type": "markdown",
   "metadata": {},
   "source": [
    "# Other AutoML Packages"
   ]
  },
  {
   "cell_type": "markdown",
   "metadata": {},
   "source": [
    "there are many packages that can run AutoML: <br>\n",
    "https://github.com/AxeldeRomblay/MLBox <br> \n",
    "https://github.com/EpistasisLab/tpot <br>\n",
    "https://github.com/automl/auto-sklearn <br>\n",
    "https://github.com/flennerhag/mlens <br>\n",
    "https://github.com/rasbt/mlxtend <br>\n",
    "https://github.com/ClimbsRocks/auto_ml"
   ]
  }
 ],
 "metadata": {
  "kernelspec": {
   "display_name": "Python 3",
   "language": "python",
   "name": "python3"
  },
  "language_info": {
   "codemirror_mode": {
    "name": "ipython",
    "version": 3
   },
   "file_extension": ".py",
   "mimetype": "text/x-python",
   "name": "python",
   "nbconvert_exporter": "python",
   "pygments_lexer": "ipython3",
   "version": "3.7.3"
  }
 },
 "nbformat": 4,
 "nbformat_minor": 4
}
